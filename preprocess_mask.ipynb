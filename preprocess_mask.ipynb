{
 "cells": [
  {
   "cell_type": "code",
   "execution_count": 1,
   "metadata": {},
   "outputs": [
    {
     "ename": "ModuleNotFoundError",
     "evalue": "No module named 'color_conversion'",
     "output_type": "error",
     "traceback": [
      "\u001b[0;31m---------------------------------------------------------------------------\u001b[0m",
      "\u001b[0;31mModuleNotFoundError\u001b[0m                       Traceback (most recent call last)",
      "\u001b[1;32m/home/abdullah/BOUN/MIPA/MIPA/preprocess_mask.ipynb Cell 1\u001b[0m in \u001b[0;36m<cell line: 7>\u001b[0;34m()\u001b[0m\n\u001b[1;32m      <a href='vscode-notebook-cell:/home/abdullah/BOUN/MIPA/MIPA/preprocess_mask.ipynb#W0sZmlsZQ%3D%3D?line=4'>5</a>\u001b[0m \u001b[39mimport\u001b[39;00m \u001b[39mos\u001b[39;00m\n\u001b[1;32m      <a href='vscode-notebook-cell:/home/abdullah/BOUN/MIPA/MIPA/preprocess_mask.ipynb#W0sZmlsZQ%3D%3D?line=5'>6</a>\u001b[0m \u001b[39mimport\u001b[39;00m \u001b[39mlogging\u001b[39;00m\n\u001b[0;32m----> <a href='vscode-notebook-cell:/home/abdullah/BOUN/MIPA/MIPA/preprocess_mask.ipynb#W0sZmlsZQ%3D%3D?line=6'>7</a>\u001b[0m \u001b[39mfrom\u001b[39;00m \u001b[39mcolor_conversion\u001b[39;00m \u001b[39mimport\u001b[39;00m cv2_grey_to_color\n\u001b[1;32m      <a href='vscode-notebook-cell:/home/abdullah/BOUN/MIPA/MIPA/preprocess_mask.ipynb#W0sZmlsZQ%3D%3D?line=7'>8</a>\u001b[0m \u001b[39mfrom\u001b[39;00m \u001b[39mdataclasses\u001b[39;00m \u001b[39mimport\u001b[39;00m dataclass\n\u001b[1;32m     <a href='vscode-notebook-cell:/home/abdullah/BOUN/MIPA/MIPA/preprocess_mask.ipynb#W0sZmlsZQ%3D%3D?line=9'>10</a>\u001b[0m logger \u001b[39m=\u001b[39m logging\u001b[39m.\u001b[39mgetLogger(\u001b[39m\"\u001b[39m\u001b[39mpre_process\u001b[39m\u001b[39m\"\u001b[39m)\n",
      "\u001b[0;31mModuleNotFoundError\u001b[0m: No module named 'color_conversion'"
     ]
    }
   ],
   "source": [
    "import numpy as np\n",
    "import SimpleITK as sitk\n",
    "import gc\n",
    "import sys\n",
    "import os\n",
    "import logging\n",
    "from color_conversion import cv2_grey_to_color\n",
    "from dataclasses import dataclass\n",
    "\n",
    "logger = logging.getLogger(\"pre_process\")\n",
    "\n",
    "\n",
    "@dataclass\n",
    "class image_preparation:\n",
    "    r\"\"\" \"\"\"\n",
    "\n",
    "    def __init__(\n",
    "        self,\n",
    "        image_path,\n",
    "        window_level=-600,\n",
    "        window_width=1500,\n",
    "        cormack_level=False,\n",
    "        image_window=True,\n",
    "        image_size=[256, 256, 256],\n",
    "    ):\n",
    "\n",
    "        self.raw_image = image_path\n",
    "        self.window_level = window_level\n",
    "        self.window_width = window_width\n",
    "        self.cormack_level = cormack_level\n",
    "        if self.cormack_level:\n",
    "            self.window_level = 0\n",
    "            self.window_width = 2000\n",
    "\n",
    "        self.image_window = image_window\n",
    "        self.image_size = image_size\n",
    "\n",
    "        try:\n",
    "            self.image, self.image2= self.loadImage()\n",
    "        except:\n",
    "            logger.error(\"File {} not found or not supported!\".format(self.raw_image))\n",
    "\n",
    "    def __del__(self):\n",
    "        logger.info(\"Image pre-process destructor Called!\")\n",
    "\n",
    "    @staticmethod\n",
    "    def _prepare_size(image_path, downsample_rate):\n",
    "        Size = image_path.GetSize() / downsample_rate\n",
    "        return Size\n",
    "\n",
    "    def getImage(self):\n",
    "        \"\"\"\n",
    "        Returns the image in the SimpleITK object format.\n",
    "        \"\"\"\n",
    "        return self.image\n",
    "\n",
    "    def setWindowLevel(self, value):\n",
    "        \"\"\"\n",
    "        Sets the minimum window value.\n",
    "        \"\"\"\n",
    "        self.window_level = value\n",
    "\n",
    "    def setWindowWidth(self, value):\n",
    "        \"\"\"\n",
    "        Sets the maximum window value.\n",
    "        \"\"\"\n",
    "        self.window_width = value\n",
    "\n",
    "    def setScaleCormack(self, flag):\n",
    "        \"\"\"\n",
    "        Sets the Boolean value indicating whether or not the Hounsfield scale\n",
    "        conversion to Cormack level will be performed.\n",
    "        \"\"\"\n",
    "        self.cormack_level = flag\n",
    "\n",
    "    def setImageWindow(self, flag):\n",
    "        \"\"\"\n",
    "        Sets the Boolean value indicating whether or not the image will be\n",
    "        windowed.\n",
    "        \"\"\"\n",
    "        self.image_window = flag\n",
    "\n",
    "    def hounsfield_to_cormack(self, image) -> sitk.Image:\n",
    "        r\"\"\"Conversion formula suggested by Chris Rorden\n",
    "        in matlab's clinical toolbox\n",
    "        https://www.nitrc.org/projects/clinicaltbx/\n",
    "\n",
    "        Parameters\n",
    "        ----------\n",
    "        image : SimpleITK image object\n",
    "            Raw CT scan (Hounsfield scale)\n",
    "        Returns\n",
    "        -------\n",
    "        type:\n",
    "            SimpleITK image object.\n",
    "        describe :\n",
    "            Cormack scaled CT scan\n",
    "        \"\"\"\n",
    "        img_data = sitk.GetArrayFromImage(image)\n",
    "        t = img_data.flatten()\n",
    "        t1 = np.zeros(t.size)\n",
    "        t1[np.where(t > 100)] = t[np.where(t > 100)] + 3000\n",
    "        t1[np.where(np.logical_and(t >= -1000, t <= -100))] = (\n",
    "            t[np.where(np.logical_and(t >= -1000, t <= -100))] + 1000\n",
    "        )\n",
    "        t1[np.where(np.logical_and(t >= -99, t <= 100))] = (\n",
    "            t[np.where(np.logical_and(t >= -99, t <= 100))] + 99\n",
    "        ) * 11 + 911\n",
    "        trans_img = t1.reshape(img_data.shape)\n",
    "\n",
    "        res_img = sitk.GetImageFromArray(trans_img)\n",
    "        res_img.CopyInformation(image)\n",
    "\n",
    "        return res_img\n",
    "\n",
    "    def imageWindow(self, image) -> sitk.Image:\n",
    "        r\"\"\"A one-line summary that does not use variable names or the\n",
    "        function name.\n",
    "        Several sentences providing an extended description. Refer to\n",
    "        variables using back-ticks, e.g. `var`.\n",
    "\n",
    "        Parameters\n",
    "        ----------\n",
    "        image : array_like\n",
    "            Array_like means all those objects -- lists, nested lists, etc. --\n",
    "            that can be converted to an array.  We can also refer to\n",
    "            variables like `var1`.\n",
    "        Returns\n",
    "        -------\n",
    "        type\n",
    "            Explanation of anonymous return value of type ``type``.\n",
    "        describe : type\n",
    "            Explanation of return value named `describe`.\n",
    "        out : type\n",
    "            Explanation of `out`.\n",
    "        Other Parameters\n",
    "        ----------------\n",
    "        only_seldom_used_keywords : type\n",
    "            Explanation\n",
    "        common_parameters_listed_above : type\n",
    "            Explanation\n",
    "        \"\"\"\n",
    "        if self.cormack_level:\n",
    "            image = self.hounsfield_to_cormack(image)\n",
    "            logger.info(\"Cormack level selected\")\n",
    "\n",
    "        windowing = sitk.IntensityWindowingImageFilter()\n",
    "        windowing.SetWindowMinimum(self.window_level)\n",
    "        windowing.SetWindowMaximum(self.window_width)\n",
    "        img_win = windowing.Execute(image)\n",
    "\n",
    "        return img_win\n",
    "\n",
    "    def loadImage(self) -> sitk.Image:\n",
    "        \"\"\" \"\"\"\n",
    "        # Reads the image using SimpleITK\n",
    "        image = sitk.ReadImage(self.raw_image)\n",
    "        # Performs linear windowing\n",
    "        if self.image_window:\n",
    "            ct_image = self.imageWindow(image)\n",
    "        else:\n",
    "            ct_image = image\n",
    "        # ct_array = sitk.GetArrayFromImage(itkimage)\n",
    "        # Performs downsampling for Deep Learning purpouse\n",
    "        ct_image2 = self.downsampleImage(ct_image)\n",
    "        logger.info(str(ct_image.GetSize()))\n",
    "\n",
    "        return ct_image,ct_image2\n",
    "\n",
    "    def downsampleImage(self, image) -> sitk.Image:\n",
    "        r\"\"\"Downsample funtion for deep learning preprocess purpose image\n",
    "        reference_size: size in vector like format (i.e. [sx, sy,sz])\n",
    "        Parameters\n",
    "        ----------\n",
    "        image : SimpleITK image object\n",
    "            Windowed CT scan\n",
    "        Returns\n",
    "        -------\n",
    "        type:\n",
    "            SimpleITK image object.\n",
    "        describe :\n",
    "            Downsampled CT scan\n",
    "        \"\"\"\n",
    "        original_CT = image\n",
    "        # NIfTi(RAS) to ITK(LPS)\n",
    "        original_CT = sitk.DICOMOrient(original_CT, \"LPS\")\n",
    "        dimension = original_CT.GetDimension()\n",
    "        reference_physical_size = np.zeros(original_CT.GetDimension())\n",
    "        reference_physical_size[:] = [\n",
    "            (sz - 1) * spc if sz * spc > max_ else max_\n",
    "            for sz, spc, max_ in zip(\n",
    "                original_CT.GetSize(), original_CT.GetSpacing(), reference_physical_size\n",
    "            )\n",
    "        ]\n",
    "\n",
    "        reference_origin = original_CT.GetOrigin()\n",
    "        reference_direction = original_CT.GetDirection()\n",
    "        # NOTE: Looks like the downsampled image is mirrored over the y axis\n",
    "        #     reference_direction = [1.,0.,0.,0.,1.,0.,0.,0.,1.]\n",
    "        reference_size = self.image_size\n",
    "        logger.info(str(reference_size))\n",
    "        reference_spacing = [\n",
    "            phys_sz / (sz - 1)\n",
    "            for sz, phys_sz in zip(reference_size, reference_physical_size)\n",
    "        ]\n",
    "\n",
    "        reference_image = sitk.Image(reference_size, original_CT.GetPixelIDValue())\n",
    "        reference_image.SetOrigin(reference_origin)\n",
    "        reference_image.SetSpacing(reference_spacing)\n",
    "        reference_image.SetDirection(reference_direction)\n",
    "\n",
    "        reference_center = np.array(\n",
    "            reference_image.TransformContinuousIndexToPhysicalPoint(\n",
    "                np.array(reference_image.GetSize()) / 2.0\n",
    "            )\n",
    "        )\n",
    "\n",
    "        transform = sitk.AffineTransform(dimension)\n",
    "        transform.SetMatrix(original_CT.GetDirection())\n",
    "        transform.SetTranslation(np.array(original_CT.GetOrigin()) - reference_origin)\n",
    "        # Modify the transformation to align the centers of the original and\n",
    "        # reference image instead of their origins.\n",
    "        centering_transform = sitk.TranslationTransform(dimension)\n",
    "        img_center = np.array(\n",
    "            original_CT.TransformContinuousIndexToPhysicalPoint(\n",
    "                np.array(original_CT.GetSize()) / 2.0\n",
    "            )\n",
    "        )\n",
    "        centering_transform.SetOffset(\n",
    "            np.array(\n",
    "                transform.GetInverse().TransformPoint(img_center) - reference_center\n",
    "            )\n",
    "        )\n",
    "        centered_transform = sitk.CompositeTransform([transform, centering_transform])\n",
    "\n",
    "        return sitk.Resample(\n",
    "            original_CT, reference_image, centered_transform, sitk.sitkLinear, 0.0\n",
    "        )\n",
    "\n",
    "    def gantryRemoval(self, ct_image) -> sitk.Image:\n",
    "        r\"\"\"Intensity based tight crop\n",
    "\n",
    "        Parameters\n",
    "        ----------\n",
    "        ct_image : SimpleITK image object\n",
    "            Raw CT scan (Hounsfield scale)\n",
    "        Returns\n",
    "        -------\n",
    "        type:\n",
    "            SimpleITK image object.\n",
    "        describe :\n",
    "            tight cropped CT scan\n",
    "        \"\"\"\n",
    "        max_hu = int(np.max(sitk.GetArrayFromImage(ct_image)))\n",
    "        min_hu = int(np.min(sitk.GetArrayFromImage(ct_image)))\n",
    "        # binary mask of chest + artifact(s)\n",
    "        image_thr = sitk.BinaryThreshold(ct_image, -600, max_hu)\n",
    "        # label image with connected components\n",
    "        cc = sitk.ConnectedComponent(image_thr)\n",
    "        # reorder labels with largest components first\n",
    "        cc = sitk.RelabelComponent(cc)\n",
    "        # get the first component (chest)\n",
    "        cc = sitk.BinaryThreshold(cc, 1, 1)\n",
    "        #  erode and dilate to denoise\n",
    "        chestMask = sitk.BinaryMorphologicalOpening(cc, [2] * 3)\n",
    "        # apply mask on image and return\n",
    "        tmp_img = sitk.Mask(ct_image, chestMask, min_hu)\n",
    "\n",
    "        return tmp_img\n",
    "    "
   ]
  },
  {
   "cell_type": "code",
   "execution_count": 2,
   "metadata": {},
   "outputs": [],
   "source": [
    "import cv2\n",
    "def fill_holes(mask):\n",
    "    # Copy the mask to preserve the original\n",
    "    filled_mask = mask.copy()\n",
    "\n",
    "    # Perform morphological closing to fill the holes\n",
    "    kernel = cv2.getStructuringElement(cv2.MORPH_ELLIPSE, (5, 5))\n",
    "    filled_mask = cv2.morphologyEx(filled_mask, cv2.MORPH_CLOSE, kernel)\n",
    "\n",
    "    return filled_mask\n",
    "def trimmer(image,image_mask,threshold:int=3000):\n",
    "    x=np.where(image_mask.sum(axis=(0,1))>threshold)[0]\n",
    "    y=np.where(image_mask.sum(axis=(1,2))>threshold)[0]\n",
    "    z=np.where(image_mask.sum(axis=(0,2))>threshold)[0]\n",
    "    return image[y[0]:y[-1],z[0]:z[-1],x[0]:x[-1]]"
   ]
  },
  {
   "cell_type": "code",
   "execution_count": 16,
   "metadata": {},
   "outputs": [
    {
     "name": "stdout",
     "output_type": "stream",
     "text": [
      "/home/abdullah/BOUN/MIPA/MIPA/CT_BET/results_folder/unet_CT_SS_2023528_123217/predictions/1.2.410.200010.20230510.150224.131209.120217_BEYIN_BT_Head_20230409171405_203.nii index 0 is out of bounds for axis 0 with size 0\n",
      "/home/abdullah/BOUN/MIPA/MIPA/CT_BET/results_folder/unet_CT_SS_2023528_123217/predictions/1.2.410.200010.20230510.150106.132315.131483_BEYIN_BT_Head_20230405115322_203.nii index 0 is out of bounds for axis 0 with size 0\n",
      "/home/abdullah/BOUN/MIPA/MIPA/CT_BET/results_folder/unet_CT_SS_2023528_123217/predictions/1.2.410.200010.20230509.190600.110909.129091_Beyin+Boyun_Anjio_Head_20230502034054_300.nii index 0 is out of bounds for axis 0 with size 0\n",
      "/home/abdullah/BOUN/MIPA/MIPA/CT_BET/results_folder/unet_CT_SS_2023528_123217/predictions/1.2.410.200010.20230509.193305.117351.119983_BEYIN_BT_Head_20230403153409_203.nii index 0 is out of bounds for axis 0 with size 0\n",
      "/home/abdullah/BOUN/MIPA/MIPA/CT_BET/results_folder/unet_CT_SS_2023528_123217/predictions/1.2.410.200010.20230509.191454.108924.118849_Beyin+Boyun_Anjio_Head_20230501202007_400.nii index 0 is out of bounds for axis 0 with size 0\n",
      "/home/abdullah/BOUN/MIPA/MIPA/CT_BET/results_folder/unet_CT_SS_2023528_123217/predictions/1.2.410.200010.20230509.191512.132526.123735_Beyin+Boyun_Anjio_Head_20230430121718_300.nii index 0 is out of bounds for axis 0 with size 0\n"
     ]
    },
    {
     "ename": "",
     "evalue": "",
     "output_type": "error",
     "traceback": [
      "\u001b[1;31mThe Kernel crashed while executing code in the the current cell or a previous cell. Please review the code in the cell(s) to identify a possible cause of the failure. Click <a href='https://aka.ms/vscodeJupyterKernelCrash'>here</a> for more info. View Jupyter <a href='command:jupyter.viewOutput'>log</a> for further details."
     ]
    }
   ],
   "source": [
    "import glob\n",
    "import os\n",
    "import nibabel as nib\n",
    "\n",
    "path_to_change=\"results_folder/unet_CT_SS_2023528_123217/predictions\"\n",
    "#path_to_change=\"predictions\"\n",
    "path=\"/home/abdullah/BOUN/MIPA/MIPA/CT_BET/results_folder/unet_CT_SS_2023528_123217/predictions/*.nii\"\n",
    "def window_image(img, window_center,window_width, intercept=None, slope=None, rescale=True,hu_conv=False):\n",
    "    if hu_conv:\n",
    "        img = (img*slope +intercept) #for translation adjustments given in the dicom file. \n",
    "    img_min = window_center - window_width//2 #minimum HU level\n",
    "    img_max = window_center + window_width//2 #maximum HU level\n",
    "    img=img*(img<img_max)*(img>img_min)\n",
    "    \n",
    "    print(img_min,img_max)\n",
    "\n",
    "    if rescale: \n",
    "        img = (img - img_min) / (img_max - img_min)*255.0 \n",
    "    return img\n",
    "\n",
    "files=[]\n",
    "images=[]\n",
    "maskeds=[]\n",
    "masks=[]\n",
    "affines=[]import nibabel as nib\n",
    "data=nib.load(\"1.2.410.200010.20230508.145831.100041/1.2.410.200010.20230508.145831.100041.124908/AXIAL/1.2.410.200010.20230508.145831.100041.124908_Beyin+Boyun_Anjio_Head_20230504005400_702.nii\")\n",
    "image_data=data.get_fdata()\n",
    "def window(image,wl,ww,threshold):\n",
    "    high_bound=wl+ww/2\n",
    "    low_bound=wl-ww/2\n",
    "    mask=np.clip(image,low_bound,high_bound,0,1)\n",
    "    mask2=image<threshold\n",
    "    return (image*mask*mask2)\n",
    "image_filtered=window(image_data,50,120,231)\n",
    "    try:\n",
    "        #image_brain=image_preparation(file.replace(path_to_change,'transfer_data'),window_level=40,window_width=80)\n",
    "        #image_brain.setImageWindow(True)\n",
    "        #image_gantry=image_brain.gantryRemoval(image_brain.image)\n",
    "        \n",
    "        seg=nib.load(file)\n",
    "        #image=sitk.GetArrayFromImage(image_gantry)    \n",
    "    \n",
    "        seg_data=seg.get_fdata()\n",
    "        image=nib.load(file.replace(path_to_change,'transferdata'))\n",
    "        image_data=image.get_fdata()\n",
    "        masked=image_data*seg_data\n",
    "        affines.append(image.affine)\n",
    "        headers.append(image.header)\n",
    "        files.append(file)\n",
    "        masks.append(seg_data)\n",
    "        images.append(image)\n",
    "        masked=trimmer(masked,seg_data)\n",
    "        flipped_image=(masked*(masked>1)).transpose(1,0,2)\n",
    "        flipped_image = np.flip(flipped_image, axis=1)\n",
    "        maskeds.append(flipped_image)\n",
    "    except Exception as e: \n",
    "        print(file,e)\n",
    "        pass"
   ]
  },
  {
   "cell_type": "code",
   "execution_count": 14,
   "metadata": {},
   "outputs": [],
   "source": [
    "for idx,imagx in enumerate(maskeds):\n",
    "    try:\n",
    "        os.mkdir('outputs2')\n",
    "    except:\n",
    "        pass\n",
    "    img = nib.Nifti1Image(imagx, images[idx].affine, images[idx].header)\n",
    "    nib.save(img,f'outputs2/patient{idx}.nii.gz')"
   ]
  },
  {
   "cell_type": "code",
   "execution_count": 219,
   "metadata": {},
   "outputs": [
    {
     "data": {
      "text/plain": [
       "18"
      ]
     },
     "execution_count": 219,
     "metadata": {},
     "output_type": "execute_result"
    }
   ],
   "source": [
    "len(glob.glob(path))"
   ]
  },
  {
   "cell_type": "code",
   "execution_count": 1,
   "metadata": {},
   "outputs": [],
   "source": [
    "import nibabel as nib\n",
    "seg=nib.load('/home/abdullah/BOUN/MIPA/MIPA/CT_BET/results_folder/unet_CT_SS_2023528_123217/predictions/1.2.410.200010.20230508.145831.100041.127011_Beyin+Boyun_Anjio_Head_20230504005400_201.nii')"
   ]
  },
  {
   "cell_type": "code",
   "execution_count": 2,
   "metadata": {},
   "outputs": [],
   "source": [
    "im=nib.load(\"/home/abdullah/BOUN/MIPA/MIPA/transfer_data22/deneme.nii\")"
   ]
  },
  {
   "cell_type": "code",
   "execution_count": 3,
   "metadata": {},
   "outputs": [],
   "source": [
    "im_d=im.get_fdata()\n",
    "seg_d=seg.get_fdata()"
   ]
  },
  {
   "cell_type": "code",
   "execution_count": 7,
   "metadata": {},
   "outputs": [],
   "source": [
    "masked=im_d[:,:,0:119]*seg_d"
   ]
  },
  {
   "cell_type": "code",
   "execution_count": 39,
   "metadata": {},
   "outputs": [],
   "source": [
    "def fill_holes(mask):\n",
    "    # Copy the mask to preserve the original\n",
    "    filled_mask = mask.copy()\n",
    "\n",
    "    # Perform morphological closing to fill the holes\n",
    "    kernel = cv2.getStructuringElement(cv2.MORPH_ELLIPSE, (25, 25))\n",
    "    filled_mask = cv2.morphologyEx(filled_mask, cv2.MORPH_CLOSE, kernel)\n",
    "    return filled_mask"
   ]
  },
  {
   "cell_type": "code",
   "execution_count": 53,
   "metadata": {},
   "outputs": [],
   "source": [
    "def erode_and_fill(mask):\n",
    "    for idx,m in enumerate(mask):\n",
    "        kernel = np.ones((20, 20), np.uint8)  # Adjust the kernel size as needed\n",
    "        filled_mask = fill_holes(m)\n",
    "        eroded_mask = cv2.erode(filled_mask, kernel, iterations=1)\n",
    "        \n",
    "        mask[idx,:,:] = eroded_mask\n",
    "    return mask"
   ]
  },
  {
   "cell_type": "code",
   "execution_count": 54,
   "metadata": {},
   "outputs": [],
   "source": [
    "import numpy as np\n",
    "import nibabel as nib\n",
    "from nibabel import processing\n",
    "import cv2\n",
    "data=nib.load(\"1.2.410.200010.20230508.145831.100041/1.2.410.200010.20230508.145831.100041.124908/AXIAL/1.2.410.200010.20230508.145831.100041.124908_Beyin+Boyun_Anjio_Head_20230504005400_702.nii\")\n",
    "mask=nib.load(\"CT_BET/results_folder/unet_CT_SS_2023529_145121/predictions/deneme2.nii\")\n",
    "data=processing.smooth_image(data,3)\n",
    "image_data=data.get_fdata()\n",
    "def window(image,wl,ww,threshold,mask):\n",
    "    high_bound=wl+(ww/2)\n",
    "    low_bound=wl-(ww/2)\n",
    "    eroded_mask = erode_and_fill(mask)\n",
    "\n",
    "    mask1=(image<high_bound)*(image>low_bound)\n",
    "    mask2=(image<threshold)*(image>50)\n",
    "    \n",
    "    return (mask1+mask2)*eroded_mask,(image)*(mask1+mask2),eroded_mask\n",
    "image_filtered,org,eroded_mask=window(image_data,60,20,200,mask.get_fdata())"
   ]
  },
  {
   "cell_type": "code",
   "execution_count": 55,
   "metadata": {},
   "outputs": [
    {
     "ename": "",
     "evalue": "",
     "output_type": "error",
     "traceback": [
      "\u001b[1;31mThe Kernel crashed while executing code in the the current cell or a previous cell. Please review the code in the cell(s) to identify a possible cause of the failure. Click <a href='https://aka.ms/vscodeJupyterKernelCrash'>here</a> for more info. View Jupyter <a href='command:jupyter.viewOutput'>log</a> for further details."
     ]
    }
   ],
   "source": [
    "maskc=nib.Nifti1Image(image_filtered,data.affine,data.header)\n",
    "nib.save(maskc,'outputs2/vessels.nii')"
   ]
  },
  {
   "cell_type": "code",
   "execution_count": 49,
   "metadata": {},
   "outputs": [
    {
     "data": {
      "text/plain": [
       "<matplotlib.image.AxesImage at 0x7fa0dfd6d900>"
      ]
     },
     "execution_count": 49,
     "metadata": {},
     "output_type": "execute_result"
    },
    {
     "data": {
      "image/png": "[encoded data removed]",
      "text/plain": [
       "<Figure size 1152x1152 with 1 Axes>"
      ]
     },
     "metadata": {
      "needs_background": "light"
     },
     "output_type": "display_data"
    }
   ],
   "source": [
    "from matplotlib import pyplot as plt \n",
    "plt.figure(figsize=(16,16))\n",
    "slice=252\n",
    "plt.imshow(np.hstack((255*image_filtered[slice,:,:],org[slice,:,:],255*fill_holes(eroded_mask[slice,:,:]))))"
   ]
  },
  {
   "cell_type": "code",
   "execution_count": 9,
   "metadata": {},
   "outputs": [
    {
     "data": {
      "text/plain": [
       "-9.0"
      ]
     },
     "execution_count": 9,
     "metadata": {},
     "output_type": "execute_result"
    }
   ],
   "source": [
    "image_filtered.min()"
   ]
  }
 ],
 "metadata": {
  "kernelspec": {
   "display_name": "BOUN",
   "language": "python",
   "name": "python3"
  },
  "language_info": {
   "codemirror_mode": {
    "name": "ipython",
    "version": 3
   },
   "file_extension": ".py",
   "mimetype": "text/x-python",
   "name": "python",
   "nbconvert_exporter": "python",
   "pygments_lexer": "ipython3",
   "version": "3.10.4"
  },
  "orig_nbformat": 4,
  "vscode": {
   "interpreter": {
    "hash": "faff774dd351ab661e9dc2015c8b0dd0b03f95961a536ee0bbb7f633b224352f"
   }
  }
 },
 "nbformat": 4,
 "nbformat_minor": 2
}
