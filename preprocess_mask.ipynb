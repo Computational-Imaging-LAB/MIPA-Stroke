{
 "cells": [
  {
   "attachments": {},
   "cell_type": "markdown",
   "metadata": {},
   "source": [
    "# Extracting"
   ]
  },
  {
   "cell_type": "code",
   "execution_count": 8,
   "metadata": {},
   "outputs": [],
   "source": [
    "import cv2\n",
    "import numpy as np\n",
    "def fill_holes(mask):\n",
    "    # Copy the mask to preserve the original\n",
    "    filled_mask = mask.copy()\n",
    "\n",
    "    # Perform morphological closing to fill the holes\n",
    "    kernel = cv2.getStructuringElement(cv2.MORPH_ELLIPSE, (20, 20))\n",
    "    filled_mask = cv2.morphologyEx(filled_mask, cv2.MORPH_CLOSE, kernel)\n",
    "\n",
    "    return filled_mask\n",
    "def trimmer(image,image_mask,threshold:int=3000):\n",
    "    x=np.where(image_mask.sum(axis=(0,1))>threshold)[0]\n",
    "    y=np.where(image_mask.sum(axis=(1,2))>threshold)[0]\n",
    "    z=np.where(image_mask.sum(axis=(0,2))>threshold)[0]\n",
    "    return image[y[0]:y[-1],z[0]:z[-1],x[0]:x[-1]]\n",
    "def erode_and_fill(mask):\n",
    "    for idx,m in enumerate(mask):\n",
    "        kernel = np.ones((20, 20), np.uint8)  # Adjust the kernel size as needed\n",
    "        filled_mask = fill_holes(m)\n",
    "        eroded_mask = cv2.erode(filled_mask, kernel, iterations=1)\n",
    "        \n",
    "        mask[idx,:,:] = eroded_mask\n",
    "    return mask"
   ]
  },
  {
   "cell_type": "code",
   "execution_count": null,
   "metadata": {},
   "outputs": [],
   "source": [
    "import glob\n",
    "import os\n",
    "import nibabel as nib\n",
    "paths=glob.glob(\"transfer_data23/*.nii\")\n",
    "path_to_change=\"transfer_data23/\"\n",
    "output_dir=\"outputs23\"\n",
    "for idx,imagx in enumerate(paths):\n",
    "    try:\n",
    "        os.mkdir(output_dir)\n",
    "    except:\n",
    "        pass\n",
    "    mask=nib.load(imagx.replace('transfer_data23','transfer_data23/masks/unet_CT_SS_2023530_115030/predictions'))\n",
    "    image=nib.load(imagx)\n",
    "    mask_data=mask.get_fdata()\n",
    "    image_data=image.get_fdata()\n",
    "    eroded_mask = erode_and_fill(mask_data)\n",
    "\n",
    "    image_data=image_data*eroded_mask\n",
    "\n",
    "    image_data=trimmer(image_data,eroded_mask,300)\n",
    "    \n",
    "    image_data[image_data<0]=0\n",
    "    img = nib.Nifti1Image(image_data, image.affine, image.header)\n",
    "    nib.save(img,output_dir+f'/patient{idx}.nii.gz')"
   ]
  },
  {
   "cell_type": "code",
   "execution_count": 1,
   "metadata": {},
   "outputs": [],
   "source": [
    "import nibabel as nib\n",
    "seg=nib.load('/home/abdullah/BOUN/MIPA/MIPA/CT_BET/results_folder/unet_CT_SS_2023528_123217/predictions/1.2.410.200010.20230508.145831.100041.127011_Beyin+Boyun_Anjio_Head_20230504005400_201.nii')"
   ]
  },
  {
   "cell_type": "code",
   "execution_count": 2,
   "metadata": {},
   "outputs": [],
   "source": [
    "im=nib.load(\"/home/abdullah/BOUN/MIPA/MIPA/transfer_data22/deneme.nii\")"
   ]
  },
  {
   "cell_type": "code",
   "execution_count": 3,
   "metadata": {},
   "outputs": [],
   "source": [
    "im_d=im.get_fdata()\n",
    "seg_d=seg.get_fdata()"
   ]
  },
  {
   "cell_type": "code",
   "execution_count": 7,
   "metadata": {},
   "outputs": [],
   "source": [
    "masked=im_d[:,:,0:119]*seg_d"
   ]
  },
  {
   "attachments": {},
   "cell_type": "markdown",
   "metadata": {},
   "source": [
    "# Vessel Segmentation"
   ]
  },
  {
   "cell_type": "code",
   "execution_count": 12,
   "metadata": {},
   "outputs": [],
   "source": [
    "\n",
    "import numpy as np\n",
    "import nibabel as nib\n",
    "from nibabel import processing\n",
    "import cv2\n",
    "data=nib.load(\"/home/abdullah/BOUN/MIPA/MIPA/outputs23/patient0.nii.gz\")\n",
    "data=processing.smooth_image(data,3)\n",
    "image_data=data.get_fdata()\n",
    "def window(image,wl,ww,threshold):\n",
    "    high_bound=wl+(ww/2)\n",
    "    low_bound=wl-(ww/2)\n",
    "    mask1=(image<high_bound)*(image>low_bound)\n",
    "    mask2=(image<threshold)*(image>50)\n",
    "    \n",
    "    return (mask1+mask2),(image)*(mask1+mask2)\n",
    "\n",
    "image_filtered,org=window(image_data,60,20,200)"
   ]
  },
  {
   "cell_type": "code",
   "execution_count": null,
   "metadata": {},
   "outputs": [],
   "source": [
    "maskc=nib.Nifti1Image(image_filtered,data.affine,data.header)\n",
    "nib.save(maskc,'outputs2/vessels.nii')"
   ]
  },
  {
   "cell_type": "code",
   "execution_count": 24,
   "metadata": {},
   "outputs": [
    {
     "data": {
      "text/plain": [
       "<matplotlib.image.AxesImage at 0x7f4e409725f0>"
      ]
     },
     "execution_count": 24,
     "metadata": {},
     "output_type": "execute_result"
    },
    {
     "data": {
      "image/png": "[encoded data removed]",
      "text/plain": [
       "<Figure size 1152x1152 with 1 Axes>"
      ]
     },
     "metadata": {
      "needs_background": "light"
     },
     "output_type": "display_data"
    }
   ],
   "source": [
    "from matplotlib import pyplot as plt \n",
    "plt.figure(figsize=(16,16))\n",
    "slice=77\n",
    "plt.imshow(np.hstack((255*image_filtered[slice,:,:],org[slice,:,:])))"
   ]
  },
  {
   "cell_type": "code",
   "execution_count": 9,
   "metadata": {},
   "outputs": [
    {
     "data": {
      "text/plain": [
       "-9.0"
      ]
     },
     "execution_count": 9,
     "metadata": {},
     "output_type": "execute_result"
    }
   ],
   "source": [
    "import numpy as np\n",
    "import nibabel as nib\n",
    "from nibabel import processing\n",
    "import cv2\n",
    "data=nib.load(\"1.2.410.200010.20230508.145831.100041/1.2.410.200010.20230508.145831.100041.124908/AXIAL/1.2.410.200010.20230508.145831.100041.124908_Beyin+Boyun_Anjio_Head_20230504005400_702.nii\")\n",
    "mask=nib.load(\"CT_BET/results_folder/unet_CT_SS_2023529_145121/predictions/deneme2.nii\")\n",
    "data=processing.smooth_image(data,3)\n",
    "image_data=data.get_fdata()\n",
    "def window(image,wl,ww,threshold,mask):\n",
    "    high_bound=wl+(ww/2)\n",
    "    low_bound=wl-(ww/2)\n",
    "    eroded_mask = erode_and_fill(mask)\n",
    "\n",
    "    mask1=(image<high_bound)*(image>low_bound)\n",
    "    mask2=(image<threshold)*(image>50)\n",
    "    \n",
    "    return (mask1+mask2)*eroded_mask,(image)*(mask1+mask2),eroded_mask\n",
    "image_filtered,org,eroded_mask=window(image_data,60,20,200,mask.get_fdata())"
   ]
  }
 ],
 "metadata": {
  "kernelspec": {
   "display_name": "BOUN",
   "language": "python",
   "name": "python3"
  },
  "language_info": {
   "codemirror_mode": {
    "name": "ipython",
    "version": 3
   },
   "file_extension": ".py",
   "mimetype": "text/x-python",
   "name": "python",
   "nbconvert_exporter": "python",
   "pygments_lexer": "ipython3",
   "version": "3.10.4"
  },
  "orig_nbformat": 4,
  "vscode": {
   "interpreter": {
    "hash": "faff774dd351ab661e9dc2015c8b0dd0b03f95961a536ee0bbb7f633b224352f"
   }
  }
 },
 "nbformat": 4,
 "nbformat_minor": 2
}
