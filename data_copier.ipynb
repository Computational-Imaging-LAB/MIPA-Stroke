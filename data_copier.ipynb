{
 "cells": [
  {
   "cell_type": "code",
   "execution_count": 2,
   "metadata": {},
   "outputs": [],
   "source": [
    "import os \n",
    "import glob\n",
    "\n",
    "path=\"/home/abdullah/BOUN/MIPA/MIPA/*/*/AXIAL/*.json\"\n",
    "\n",
    "paths=glob.glob(path)\n",
    "\n"
   ]
  },
  {
   "cell_type": "code",
   "execution_count": 3,
   "metadata": {},
   "outputs": [],
   "source": [
    "import json \n",
    "f=open(paths[0])\n",
    "data=json.load(f)"
   ]
  },
  {
   "cell_type": "code",
   "execution_count": 4,
   "metadata": {},
   "outputs": [
    {
     "data": {
      "text/plain": [
       "'ALTIOK_YSMAYL'"
      ]
     },
     "execution_count": 4,
     "metadata": {},
     "output_type": "execute_result"
    }
   ],
   "source": [
    "data['PatientName']"
   ]
  },
  {
   "cell_type": "code",
   "execution_count": 10,
   "metadata": {},
   "outputs": [],
   "source": [
    "names=[]\n",
    "pathsc=[]\n",
    "for path in paths:\n",
    "    f=open(path)\n",
    "    data=json.load(f)\n",
    "    if not data['PatientID'] in names and \"BEYIN\" in data['ProtocolName'].upper() and data['XRayExposure']>295:\n",
    "        names.append(data['PatientID'])\n",
    "        pathsc.append(path.replace('json','nii'))"
   ]
  },
  {
   "cell_type": "code",
   "execution_count": 15,
   "metadata": {},
   "outputs": [],
   "source": [
    "os.mkdir('transfer_data23')\n",
    "for i in (pathsc):\n",
    "    os.system(f'cp {i} /home/abdullah/BOUN/MIPA/MIPA/transfer_data23')"
   ]
  },
  {
   "cell_type": "code",
   "execution_count": 12,
   "metadata": {},
   "outputs": [
    {
     "data": {
      "text/plain": [
       "['14147441534',\n",
       " '29659916906',\n",
       " '16076287344',\n",
       " '21898801074',\n",
       " '26848987068',\n",
       " '24851603234',\n",
       " '10664547070',\n",
       " '45568326278',\n",
       " '11669177682',\n",
       " '56188029616',\n",
       " '14836025830',\n",
       " '43900439136',\n",
       " '21697808236',\n",
       " '48088514378',\n",
       " '51319685198',\n",
       " '37564321562',\n",
       " '40198196604',\n",
       " '50506198756',\n",
       " '34633730560',\n",
       " '33919196168',\n",
       " '45880466102',\n",
       " '30610637174',\n",
       " '45064973884',\n",
       " '62272134760']"
      ]
     },
     "execution_count": 12,
     "metadata": {},
     "output_type": "execute_result"
    }
   ],
   "source": [
    "pathsc"
   ]
  }
 ],
 "metadata": {
  "kernelspec": {
   "display_name": "Python 3",
   "language": "python",
   "name": "python3"
  },
  "language_info": {
   "codemirror_mode": {
    "name": "ipython",
    "version": 3
   },
   "file_extension": ".py",
   "mimetype": "text/x-python",
   "name": "python",
   "nbconvert_exporter": "python",
   "pygments_lexer": "ipython3",
   "version": "3.8.10"
  },
  "orig_nbformat": 4,
  "vscode": {
   "interpreter": {
    "hash": "31f2aee4e71d21fbe5cf8b01ff0e069b9275f58929596ceb00d14d90e3e16cd6"
   }
  }
 },
 "nbformat": 4,
 "nbformat_minor": 2
}
